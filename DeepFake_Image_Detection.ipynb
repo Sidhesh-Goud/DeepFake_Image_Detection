{
  "cells": [
    {
      "cell_type": "markdown",
      "metadata": {
        "id": "Oj6p0QRN4JOD"
      },
      "source": [
        "<a href=\"https://colab.research.google.com/github/jeffheaton/t81_558_deep_learning/blob/master/t81_558_class_07_1_gan_intro.ipynb\" target=\"_parent\"><img src=\"https://colab.research.google.com/assets/colab-badge.svg\" alt=\"Open In Colab\"/></a>"
      ]
    },
    {
      "cell_type": "code",
      "execution_count": null,
      "metadata": {
        "colab": {
          "base_uri": "https://localhost:8080/"
        },
        "id": "vrshAzVK4smS",
        "outputId": "97115c3e-76de-4860-cf44-08cb1321f3c2"
      },
      "outputs": [
        {
          "name": "stdout",
          "output_type": "stream",
          "text": [
            "Colab only includes TensorFlow 2.x; %tensorflow_version has no effect.\n",
            "Mounted at /content/drive\n",
            "Note: using Google CoLab\n"
          ]
        }
      ],
      "source": [
        "try:\n",
        "    from google.colab import drive\n",
        "    %tensorflow_version 2.x\n",
        "    drive.mount('/content/drive', force_remount=True)\n",
        "    COLAB = True\n",
        "    print(\"Note: using Google CoLab\")\n",
        "except:\n",
        "    print(\"Note: not using Google CoLab\")\n",
        "    COLAB = False"
      ]
    },
    {
      "cell_type": "markdown",
      "metadata": {
        "id": "Rq3dZOg_5GNH"
      },
      "source": [
        "## Generating High Resolution Fake images using StyleGAN3  "
      ]
    },
    {
      "cell_type": "code",
      "execution_count": null,
      "metadata": {
        "colab": {
          "base_uri": "https://localhost:8080/"
        },
        "id": "qjXaut8E4JOE",
        "outputId": "cfaabc5f-17ff-433e-983f-6c6025634c0d"
      },
      "outputs": [
        {
          "name": "stdout",
          "output_type": "stream",
          "text": [
            "Cloning into 'stylegan3'...\n",
            "remote: Enumerating objects: 212, done.\u001b[K\n",
            "remote: Counting objects: 100% (5/5), done.\u001b[K\n",
            "remote: Compressing objects: 100% (5/5), done.\u001b[K\n",
            "remote: Total 212 (delta 0), reused 1 (delta 0), pack-reused 207\u001b[K\n",
            "Receiving objects: 100% (212/212), 4.16 MiB | 27.16 MiB/s, done.\n",
            "Resolving deltas: 100% (101/101), done.\n",
            "Collecting ninja\n",
            "  Downloading ninja-1.11.1-py2.py3-none-manylinux_2_12_x86_64.manylinux2010_x86_64.whl (145 kB)\n",
            "\u001b[2K     \u001b[90m━━━━━━━━━━━━━━━━━━━━━━━━━━━━━━━━━━━━━━━\u001b[0m \u001b[32m146.0/146.0 kB\u001b[0m \u001b[31m3.1 MB/s\u001b[0m eta \u001b[36m0:00:00\u001b[0m\n",
            "\u001b[?25hInstalling collected packages: ninja\n",
            "Successfully installed ninja-1.11.1\n"
          ]
        }
      ],
      "source": [
        "!git clone https://github.com/NVlabs/stylegan3.git\n",
        "!pip install ninja"
      ]
    },
    {
      "cell_type": "code",
      "execution_count": null,
      "metadata": {
        "colab": {
          "base_uri": "https://localhost:8080/"
        },
        "id": "kZF5jtAT4JOF",
        "outputId": "01c24f6e-a4bb-4688-9616-f549bd0b81b6"
      },
      "outputs": [
        {
          "name": "stdout",
          "output_type": "stream",
          "text": [
            "avg_spectra.py\t Dockerfile\t  gen_video.py\tmetrics      train.py\n",
            "calc_metrics.py  docs\t\t  gui_utils\tREADME.md    visualizer.py\n",
            "dataset_tool.py  environment.yml  legacy.py\ttorch_utils  viz\n",
            "dnnlib\t\t gen_images.py\t  LICENSE.txt\ttraining\n"
          ]
        }
      ],
      "source": [
        "!ls /content/stylegan3"
      ]
    },
    {
      "cell_type": "code",
      "execution_count": null,
      "metadata": {
        "colab": {
          "base_uri": "https://localhost:8080/"
        },
        "id": "UUA_V0yH5f4Y",
        "outputId": "c3af8a19-63fc-4ce3-aaea-f0a791bd1ec0"
      },
      "outputs": [
        {
          "name": "stdout",
          "output_type": "stream",
          "text": [
            "Loading networks from \"https://api.ngc.nvidia.com/v2/models/nvidia/research/stylegan3/versions/1/files/stylegan3-r-ffhq-1024x1024.pkl\"...\n",
            "Generating image for seed 33751 (0/21) ...\n",
            "Setting up PyTorch plugin \"bias_act_plugin\"... Done.\n",
            "Setting up PyTorch plugin \"filtered_lrelu_plugin\"... Done.\n",
            "Generating image for seed 33752 (1/21) ...\n",
            "Generating image for seed 33753 (2/21) ...\n",
            "Generating image for seed 33754 (3/21) ...\n",
            "Generating image for seed 33755 (4/21) ...\n",
            "Generating image for seed 33756 (5/21) ...\n",
            "Generating image for seed 33757 (6/21) ...\n",
            "Generating image for seed 33758 (7/21) ...\n",
            "Generating image for seed 33759 (8/21) ...\n",
            "Generating image for seed 33760 (9/21) ...\n",
            "Generating image for seed 33761 (10/21) ...\n",
            "Generating image for seed 33762 (11/21) ...\n",
            "Generating image for seed 33763 (12/21) ...\n",
            "Generating image for seed 33764 (13/21) ...\n",
            "Generating image for seed 33765 (14/21) ...\n",
            "Generating image for seed 33766 (15/21) ...\n",
            "Generating image for seed 33767 (16/21) ...\n",
            "Generating image for seed 33768 (17/21) ...\n",
            "Generating image for seed 33769 (18/21) ...\n",
            "Generating image for seed 33770 (19/21) ...\n",
            "Generating image for seed 33771 (20/21) ...\n"
          ]
        }
      ],
      "source": [
        "URL = \"https://api.ngc.nvidia.com/v2/models/nvidia/research/\"\\\n",
        "      \"stylegan3/versions/1/files/stylegan3-r-ffhq-1024x1024.pkl\"\n",
        "\n",
        "!python /content/stylegan3/gen_images.py \\\n",
        "    --network={URL} \\\n",
        "  --outdir=/content/results --seeds=33751-33771"
      ]
    },
    {
      "cell_type": "code",
      "execution_count": null,
      "metadata": {
        "colab": {
          "base_uri": "https://localhost:8080/"
        },
        "id": "PVRTbk5S5mPI",
        "outputId": "e24740f2-a0d7-462e-e8ba-4386ca979341"
      },
      "outputs": [
        {
          "name": "stdout",
          "output_type": "stream",
          "text": [
            "seed30813.png  seed30818.png  seed30823.png  seed30828.png  seed30833.png\n",
            "seed30814.png  seed30819.png  seed30824.png  seed30829.png  seed30834.png\n",
            "seed30815.png  seed30820.png  seed30825.png  seed30830.png\n",
            "seed30816.png  seed30821.png  seed30826.png  seed30831.png\n",
            "seed30817.png  seed30822.png  seed30827.png  seed30832.png\n"
          ]
        }
      ],
      "source": [
        "!ls /content/results"
      ]
    },
    {
      "cell_type": "code",
      "execution_count": null,
      "metadata": {
        "id": "HLBt0hmv5poU"
      },
      "outputs": [],
      "source": [
        "!cp /content/results/* \\\n",
        "    /content/drive/My\\ Drive/projects/stylegan3"
      ]
    }
  ],
  "metadata": {
    "accelerator": "GPU",
    "anaconda-cloud": {},
    "colab": {
      "provenance": []
    },
    "kernelspec": {
      "display_name": "Python 3.9 (tensorflow)",
      "language": "python",
      "name": "tensorflow"
    },
    "language_info": {
      "codemirror_mode": {
        "name": "ipython",
        "version": 3
      },
      "file_extension": ".py",
      "mimetype": "text/x-python",
      "name": "python",
      "nbconvert_exporter": "python",
      "pygments_lexer": "ipython3",
      "version": "3.9.7"
    }
  },
  "nbformat": 4,
  "nbformat_minor": 0
}